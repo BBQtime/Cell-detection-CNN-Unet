{
 "cells": [
  {
   "cell_type": "markdown",
   "metadata": {},
   "source": [
    "# Data explore and preprocess\n",
    "There are 27 images in total. Some of the input cell image having 3 or 4 channels, which is unnessary for segmentation, we need to transfer to grayscale.\n",
    "\n",
    "Also some masks are having same channel issue, as well as, numerical difference on different images. Some image's pixel range from 0 to 1, some from 0 to 255. We need to normalize them with same scale.\n",
    "\n",
    "Also some masks have 0 as backgrounds, some may have 1 as backgrounds, we need to unify them. "
   ]
  },
  {
   "cell_type": "code",
   "execution_count": null,
   "metadata": {
    "collapsed": true
   },
   "outputs": [],
   "source": []
  }
 ],
 "metadata": {
  "kernelspec": {
   "display_name": "Python [default]",
   "language": "python",
   "name": "python3"
  },
  "language_info": {
   "codemirror_mode": {
    "name": "ipython",
    "version": 3
   },
   "file_extension": ".py",
   "mimetype": "text/x-python",
   "name": "python",
   "nbconvert_exporter": "python",
   "pygments_lexer": "ipython3",
   "version": "3.5.3"
  }
 },
 "nbformat": 4,
 "nbformat_minor": 2
}
